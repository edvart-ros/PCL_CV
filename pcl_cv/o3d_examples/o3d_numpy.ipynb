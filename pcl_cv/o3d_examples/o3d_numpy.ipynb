{
 "cells": [
  {
   "cell_type": "code",
   "execution_count": 8,
   "metadata": {},
   "outputs": [],
   "source": [
    "import open3d as o3d\n",
    "import numpy as np"
   ]
  },
  {
   "cell_type": "code",
   "execution_count": 9,
   "metadata": {},
   "outputs": [],
   "source": [
    "x = np.linspace(0, 10, 10000)\n",
    "y = np.linspace(0, 10, 10000)\n",
    "mesh_x, mesh_y = np.meshgrid(x, y)\n",
    "z = np.sin(mesh_x*mesh_y)"
   ]
  },
  {
   "cell_type": "code",
   "execution_count": 10,
   "metadata": {},
   "outputs": [
    {
     "ename": "ValueError",
     "evalue": "could not broadcast input array from shape (100000000,) into shape (10000,)",
     "output_type": "error",
     "traceback": [
      "\u001b[1;31m---------------------------------------------------------------------------\u001b[0m",
      "\u001b[1;31mValueError\u001b[0m                                Traceback (most recent call last)",
      "Cell \u001b[1;32mIn[10], line 2\u001b[0m\n\u001b[0;32m      1\u001b[0m points \u001b[39m=\u001b[39m np\u001b[39m.\u001b[39mzeros((np\u001b[39m.\u001b[39msize(x), \u001b[39m3\u001b[39m))\n\u001b[1;32m----> 2\u001b[0m points[:, \u001b[39m0\u001b[39;49m] \u001b[39m=\u001b[39m np\u001b[39m.\u001b[39mreshape(mesh_x, \u001b[39m-\u001b[39m\u001b[39m1\u001b[39m)\n\u001b[0;32m      3\u001b[0m points[:, \u001b[39m1\u001b[39m] \u001b[39m=\u001b[39m np\u001b[39m.\u001b[39mreshape(mesh_y, \u001b[39m-\u001b[39m\u001b[39m1\u001b[39m)\n\u001b[0;32m      4\u001b[0m points[:, \u001b[39m2\u001b[39m] \u001b[39m=\u001b[39m np\u001b[39m.\u001b[39mreshape(z, \u001b[39m-\u001b[39m\u001b[39m1\u001b[39m)\n",
      "\u001b[1;31mValueError\u001b[0m: could not broadcast input array from shape (100000000,) into shape (10000,)"
     ]
    }
   ],
   "source": [
    "points = np.zeros((np.size(mesh_x), 3))\n",
    "points[:, 0] = np.reshape(mesh_x, -1)\n",
    "points[:, 1] = np.reshape(mesh_y, -1)\n",
    "points[:, 2] = np.reshape(z, -1)\n",
    "print(points)"
   ]
  }
 ],
 "metadata": {
  "kernelspec": {
   "display_name": "ml_vision",
   "language": "python",
   "name": "python3"
  },
  "language_info": {
   "codemirror_mode": {
    "name": "ipython",
    "version": 3
   },
   "file_extension": ".py",
   "mimetype": "text/x-python",
   "name": "python",
   "nbconvert_exporter": "python",
   "pygments_lexer": "ipython3",
   "version": "3.8.1"
  },
  "orig_nbformat": 4
 },
 "nbformat": 4,
 "nbformat_minor": 2
}
