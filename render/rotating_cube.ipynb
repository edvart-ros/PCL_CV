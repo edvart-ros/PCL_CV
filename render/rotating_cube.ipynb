{
 "cells": [
  {
   "cell_type": "code",
   "execution_count": 120,
   "metadata": {},
   "outputs": [],
   "source": [
    "import cv2\n",
    "import numpy as np\n",
    "import matplotlib.pyplot as plt"
   ]
  },
  {
   "cell_type": "markdown",
   "metadata": {},
   "source": [
    "A point is defined as a column vector. $ p = [x, y, z]^T $\n",
    "The origin of the 3d coordinate system is the pinhole camera center. The camera is looking along the negative z-axis. The x-axis is pointing to the right and the y-axis is pointing downwards."
   ]
  },
  {
   "cell_type": "code",
   "execution_count": 121,
   "metadata": {},
   "outputs": [],
   "source": [
    "# define initial cube vertices\n",
    "\n",
    "A = np.array([[-1, 1, 1]]).T\n",
    "B = np.array([[1, 1, 1]]).T\n",
    "C = np.array([[-1, 1, 3]]).T\n",
    "D = np.array([[1, 1, 3]]).T\n",
    "E = np.array([[-1, -1, 1]]).T\n",
    "F = np.array([[1, -1, 1]]).T\n",
    "G = np.array([[-1, -1, 3]]).T\n",
    "H = np.array([[1, -1, 3]]).T\n",
    "cube = np.hstack([A, B, C, D, E, F, G, H])\n",
    "cube_hom = np.vstack([cube, np.array([1, 1, 1, 1, 1, 1, 1, 1])])"
   ]
  },
  {
   "cell_type": "markdown",
   "metadata": {},
   "source": [
    "## projection\n",
    "$\\vec{p_c} = [u, v, 1]^T$ represents a pixel on the image plane, and $\\vec{p_w} = [x_w, y_w, z_w, 1]^T $ represents a point in the world space (homogeneous coordinates). The pinhole camera model gives this equation to associate the two:\n",
    "\n",
    "$$ z_c \\begin{bmatrix} u \\\\ v \\\\ 1 \\end{bmatrix}  = K \\begin{bmatrix} R & T \\end{bmatrix} \n",
    "\\begin{bmatrix} x_w \\\\ y_w \\\\ z_w \\\\ 1 \\end{bmatrix} = M \\begin{bmatrix} x_w \\\\ y_w \\\\ z_w \\\\ 1 \\end{bmatrix}$$\n",
    "\n",
    "$K$ is the intrinsic matrix (internal parameters of the camera).\n",
    "$RT$ form the extrinsic matrix, encoding the position and orientation of the camera in the world. By simply dividing by $z_c$, we get the equation:\n",
    "\n",
    "$$ \\begin{bmatrix} u \\\\ v \\\\ 1 \\end{bmatrix} = \\frac{1}{z_c}M \\begin{bmatrix} x_w \\\\ y_w \\\\ z_w \\\\ 1 \\end{bmatrix}$$\n",
    "\n",
    "or compactly:\n",
    "$$ \\vec{p_c} = \\frac{1}{z_c}M \\vec{p_w} $$\n",
    "\n",
    "In this program I fix the camera to the origin, statically, making $R = I$ and $T = I$. With this,we just have:\n",
    "$$ \\vec{p_c} = \\frac{1}{z_c}K \\vec{p_w} $$"
   ]
  },
  {
   "cell_type": "code",
   "execution_count": 122,
   "metadata": {},
   "outputs": [
    {
     "name": "stdout",
     "output_type": "stream",
     "text": [
      "[[ 30.   0. 500.   0.]\n",
      " [  0.  30. 500.   0.]\n",
      " [  0.   0.   1.   0.]]\n",
      "(3, 4)\n"
     ]
    }
   ],
   "source": [
    "# define camera parameters\n",
    "height = 1000\n",
    "width = 1000\n",
    "channels = 3\n",
    "\n",
    "\n",
    "\n",
    "a_x = 30 #focal length\n",
    "a_y = 30 #focal length\n",
    "gamma = 0 #skkew coefficient between x and y axis\n",
    "u_0 = width/2 #principal point\n",
    "v_0 = height/2 #principal point\n",
    "z_c = 1\n",
    "K = np.array([[a_x, gamma, u_0, 0],\n",
    "             [0, a_y, v_0, 0],\n",
    "             [0, 0, 1, 0]])\n",
    "print(K)\n",
    "print(K.shape)"
   ]
  },
  {
   "cell_type": "code",
   "execution_count": 123,
   "metadata": {},
   "outputs": [
    {
     "data": {
      "text/plain": [
       "<matplotlib.image.AxesImage at 0x1c8ff508490>"
      ]
     },
     "execution_count": 123,
     "metadata": {},
     "output_type": "execute_result"
    },
    {
     "data": {
      "image/png": "[encoded data removed]",
      "text/plain": [
       "<Figure size 640x480 with 1 Axes>"
      ]
     },
     "metadata": {},
     "output_type": "display_data"
    }
   ],
   "source": [
    "image = np.zeros((height, width, channels))\n",
    "plt.imshow(image)"
   ]
  },
  {
   "cell_type": "code",
   "execution_count": 124,
   "metadata": {},
   "outputs": [
    {
     "data": {
      "text/plain": [
       "array([[470, 530, 490, 510, 470, 530, 490, 510],\n",
       "       [530, 530, 510, 510, 470, 470, 490, 490]])"
      ]
     },
     "execution_count": 124,
     "metadata": {},
     "output_type": "execute_result"
    }
   ],
   "source": [
    "P_c = (1/z_c)*K@cube_hom\n",
    "pixels = np.divide(P_c[:2, :], P_c[2:, :]).astype(int)\n",
    "pixels"
   ]
  },
  {
   "cell_type": "code",
   "execution_count": 125,
   "metadata": {},
   "outputs": [
    {
     "name": "stderr",
     "output_type": "stream",
     "text": [
      "Clipping input data to the valid range for imshow with RGB data ([0..1] for floats or [0..255] for integers).\n"
     ]
    },
    {
     "data": {
      "text/plain": [
       "<matplotlib.image.AxesImage at 0x1c8982c5880>"
      ]
     },
     "execution_count": 125,
     "metadata": {},
     "output_type": "execute_result"
    },
    {
     "data": {
      "image/png": "[encoded data removed]",
      "text/plain": [
       "<Figure size 640x480 with 1 Axes>"
      ]
     },
     "metadata": {},
     "output_type": "display_data"
    }
   ],
   "source": [
    "# mark the projections of the points/cube vertices\n",
    "# connect the lines between the vertices\n",
    "A_c = pixels[:,0]\n",
    "B_c = pixels[:,1]\n",
    "C_c = pixels[:,2]\n",
    "D_c = pixels[:,3]\n",
    "E_c = pixels[:,4]\n",
    "F_c = pixels[:,5]\n",
    "G_c = pixels[:,6]\n",
    "H_c = pixels[:,7]\n",
    "\n",
    "cv2.line(image, tuple(A_c), tuple(B_c), color=(0, 255, 0), thickness=1)\n",
    "cv2.line(image, tuple(A_c), tuple(C_c), color=(0, 255, 0), thickness=1)\n",
    "cv2.line(image, tuple(B_c), tuple(D_c), color=(0, 255, 0), thickness=1)\n",
    "cv2.line(image, tuple(C_c), tuple(D_c), color=(0, 255, 0), thickness=1)\n",
    "cv2.line(image, tuple(A_c), tuple(E_c), color=(0, 255, 0), thickness=1)\n",
    "cv2.line(image, tuple(B_c), tuple(F_c), color=(0, 255, 0), thickness=1)\n",
    "cv2.line(image, tuple(C_c), tuple(G_c), color=(0, 255, 0), thickness=1)\n",
    "cv2.line(image, tuple(D_c), tuple(H_c), color=(0, 255, 0), thickness=1)\n",
    "cv2.line(image, tuple(E_c), tuple(F_c), color=(0, 255, 0), thickness=1)\n",
    "cv2.line(image, tuple(E_c), tuple(G_c), color=(0, 255, 0), thickness=1)\n",
    "cv2.line(image, tuple(F_c), tuple(H_c), color=(0, 255, 0), thickness=1)\n",
    "cv2.line(image, tuple(G_c), tuple(H_c), color=(0, 255, 0), thickness=1)\n",
    "\n",
    "image[pixels[1, :], pixels[0, :]] = (255, 0, 0)\n",
    "plt.imshow(image, cmap='gray')"
   ]
  },
  {
   "cell_type": "markdown",
   "metadata": {},
   "source": [
    "Now we can rotate the cube with a 3d rotation matrix. The cube must be rotated about its centre. We can translate the cube to the origin, rotate, then translate back to its original position"
   ]
  },
  {
   "cell_type": "code",
   "execution_count": 126,
   "metadata": {},
   "outputs": [],
   "source": [
    "cube_center = np.average(cube, axis=1).reshape((3, 1))\n",
    "img_array = []\n",
    "\n",
    "for theta in np.arange(0, 4*np.pi, 0.01):\n",
    "    cube_trans = cube - cube_center\n",
    "    R = np.array([[np.cos(theta), 0, np.sin(theta)],\n",
    "                [0, 1, 0],\n",
    "                [-np.sin(theta), 0, np.cos(theta)]])\n",
    "    cube_rot_orig = R@cube_trans\n",
    "    cube_rot = cube_rot_orig + cube_center\n",
    "    cube_rot_hom = np.vstack([cube_rot, [1, 1, 1, 1, 1, 1, 1, 1]])\n",
    "\n",
    "    image = np.zeros((height, width, channels))\n",
    "    P_c = (1/z_c)*K@cube_rot_hom\n",
    "    pixels = np.divide(P_c[:2, :], P_c[2:, :]).astype(int)\n",
    "    A_c = pixels[:,0]\n",
    "    B_c = pixels[:,1]\n",
    "    C_c = pixels[:,2]\n",
    "    D_c = pixels[:,3]\n",
    "    E_c = pixels[:,4]\n",
    "    F_c = pixels[:,5]\n",
    "    G_c = pixels[:,6]\n",
    "    H_c = pixels[:,7]\n",
    "\n",
    "    cv2.line(image, tuple(A_c), tuple(B_c), color=(0, 255, 0), thickness=1)\n",
    "    cv2.line(image, tuple(A_c), tuple(C_c), color=(0, 255, 0), thickness=1)\n",
    "    cv2.line(image, tuple(B_c), tuple(D_c), color=(0, 255, 0), thickness=1)\n",
    "    cv2.line(image, tuple(C_c), tuple(D_c), color=(0, 255, 0), thickness=1)\n",
    "    cv2.line(image, tuple(A_c), tuple(E_c), color=(0, 255, 0), thickness=1)\n",
    "    cv2.line(image, tuple(B_c), tuple(F_c), color=(0, 255, 0), thickness=1)\n",
    "    cv2.line(image, tuple(C_c), tuple(G_c), color=(0, 255, 0), thickness=1)\n",
    "    cv2.line(image, tuple(D_c), tuple(H_c), color=(0, 255, 0), thickness=1)\n",
    "    cv2.line(image, tuple(E_c), tuple(F_c), color=(0, 255, 0), thickness=1)\n",
    "    cv2.line(image, tuple(E_c), tuple(G_c), color=(0, 255, 0), thickness=1)\n",
    "    cv2.line(image, tuple(F_c), tuple(H_c), color=(0, 255, 0), thickness=1)\n",
    "    cv2.line(image, tuple(G_c), tuple(H_c), color=(0, 255, 0), thickness=1)\n",
    "\n",
    "    image[pixels[1, :], pixels[0, :]] = [255, 255, 0]\n",
    "    img_array.append(image.astype(np.uint8))\n",
    "\n",
    "out = cv2.VideoWriter('project.mp4', cv2.VideoWriter_fourcc(*'DIVX'), 100, (width, height), isColor=True)\n",
    "\n",
    "for i in range(len(img_array)):\n",
    "    out.write(img_array[i])\n",
    "out.release()"
   ]
  }
 ],
 "metadata": {
  "kernelspec": {
   "display_name": "ml_vision",
   "language": "python",
   "name": "python3"
  },
  "language_info": {
   "codemirror_mode": {
    "name": "ipython",
    "version": 3
   },
   "file_extension": ".py",
   "mimetype": "text/x-python",
   "name": "python",
   "nbconvert_exporter": "python",
   "pygments_lexer": "ipython3",
   "version": "3.8.1"
  },
  "orig_nbformat": 4
 },
 "nbformat": 4,
 "nbformat_minor": 2
}
