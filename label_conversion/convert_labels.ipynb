{
 "cells": [
  {
   "cell_type": "code",
   "execution_count": 34,
   "metadata": {},
   "outputs": [
    {
     "name": "stdout",
     "output_type": "stream",
     "text": [
      "4885\n"
     ]
    }
   ],
   "source": [
    "import numpy as np\n",
    "import cv2\n",
    "import matplotlib.pyplot as plt\n",
    "\n",
    "label_path = \"original_labels/green_h_image4.txt\"\n",
    "\n",
    "with open(label_path,\"r\") as f:\n",
    "    lines = f.readlines()\n",
    "\n",
    "height, width = 1080, 1920  # replace with your actual image dimensions\n",
    "mask_list = []\n",
    "class_list = []\n",
    "\n",
    "for line in lines:\n",
    "    line_arr = line.split()\n",
    "    print(len(line_arr))\n",
    "    if line_arr:  # make sure line is not empty\n",
    "        class_list.append(int(line_arr[0]))\n",
    "        mask = np.zeros((height, width))\n",
    "        points = []\n",
    "        for i in range(1, len(line_arr), 2):\n",
    "            x = round(float(line_arr[i])*width)\n",
    "            y = round(float(line_arr[i+1])*height)\n",
    "            points.append([x, y])\n",
    "        cv2.fillPoly(mask, np.array([points], dtype=np.int32), 1)\n",
    "        mask_list.append(mask)\n",
    "\n",
    "\n"
   ]
  },
  {
   "cell_type": "code",
   "execution_count": 35,
   "metadata": {},
   "outputs": [],
   "source": [
    "contour_list = []\n",
    "for i in range(len(mask_list)):\n",
    "    mask_pad = np.pad(mask_list[i], 1, mode='edge')\n",
    "    res = np.clip(mask_pad - cv2.bitwise_and(mask_pad, np.roll(mask_pad, 1, 0)) + \\\n",
    "                mask_pad - cv2.bitwise_and(mask_pad, np.roll(mask_pad, -1, 0)) + \\\n",
    "                mask_pad - cv2.bitwise_and(mask_pad, np.roll(mask_pad, 1, 1)) + \\\n",
    "                mask_pad - cv2.bitwise_and(mask_pad, np.roll(mask_pad, -1, 1)), \\\n",
    "                a_min = 0, a_max = 1)[1:-1, 1:-1]\n",
    "    contour_list.append(res)\n",
    "    cv2.imwrite(f\"masks_viz/mask{i}.png\", res*255)\n"
   ]
  },
  {
   "cell_type": "code",
   "execution_count": null,
   "metadata": {},
   "outputs": [],
   "source": [
    "file = open(\"out_\" + label_path)\n",
    "\n"
   ]
  },
  {
   "cell_type": "markdown",
   "metadata": {},
   "source": []
  }
 ],
 "metadata": {
  "kernelspec": {
   "display_name": "Python 3",
   "language": "python",
   "name": "python3"
  },
  "language_info": {
   "codemirror_mode": {
    "name": "ipython",
    "version": 3
   },
   "file_extension": ".py",
   "mimetype": "text/x-python",
   "name": "python",
   "nbconvert_exporter": "python",
   "pygments_lexer": "ipython3",
   "version": "3.10.12"
  },
  "orig_nbformat": 4
 },
 "nbformat": 4,
 "nbformat_minor": 2
}
